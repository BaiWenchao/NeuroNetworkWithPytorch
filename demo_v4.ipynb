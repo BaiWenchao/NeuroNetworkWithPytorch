{
 "cells": [
  {
   "cell_type": "code",
   "execution_count": 1,
   "metadata": {},
   "outputs": [],
   "source": [
    "import numpy as np\n",
    "import torch\n",
    "import torch.optim as optim\n",
    "import torch.nn as nn\n",
    "\n",
    "torch.set_printoptions(edgeitems=2)"
   ]
  },
  {
   "cell_type": "code",
   "execution_count": 2,
   "metadata": {},
   "outputs": [],
   "source": [
    "# 构建数据集\n",
    "import random\n",
    "\n",
    "def generateInput(size):\n",
    "    inputList = []\n",
    "    \n",
    "    for i in range(size): \n",
    "        inList = []\n",
    "        for j in range(100):\n",
    "            item = random.randint(0, 1)\n",
    "            if item == 0:\n",
    "                item = -1\n",
    "            inList.append(item)\n",
    "        inputList.append(inList)\n",
    "        \n",
    "    return inputList"
   ]
  },
  {
   "cell_type": "code",
   "execution_count": 3,
   "metadata": {},
   "outputs": [],
   "source": [
    "#折射率\n",
    "def n(omega):\n",
    "    if(omega>1e14):\n",
    "        t=100\n",
    "        a1=4.582\n",
    "        a2=0.09921\n",
    "        a3=0.2109\n",
    "        a4=-0.02194\n",
    "        b1=0.00000022971\n",
    "        b2=0.000000052716\n",
    "        b3=-0.000000049143\n",
    "        c=88506.25\n",
    "        t1=t+273.15\n",
    "        \n",
    "        w=(2*np.pi*3e8/omega)*1e6\n",
    "        c1=w*w-(a3+b3*(t1*t1-c))*(a3+b3*(t1*t1-c))\n",
    "        c2=a1+b1*(t1*t1-c)+(a2+b2*(t1*t1-c))/c1+a4*w*w\n",
    "        y=np.sqrt(abs(c2))\n",
    "    else:\n",
    "        d1=19.9\n",
    "        d2=44\n",
    "        d3=4.533e12*2*np.pi\n",
    "        d4=0.426e12*2*np.pi\n",
    "        d5=2.9176e13\n",
    "        \n",
    "        e=d1+(d2-d1)*d5**2/(d3**2+1.0j*omega*d4-omega**2)\n",
    "        y=np.real(np.sqrt(abs(e)))\n",
    "\n",
    "    return y"
   ]
  },
  {
   "cell_type": "code",
   "execution_count": 4,
   "metadata": {},
   "outputs": [],
   "source": [
    "def kk(f):\n",
    "    z=f*n(f)/3e8\n",
    "    return z"
   ]
  },
  {
   "cell_type": "code",
   "execution_count": 5,
   "metadata": {},
   "outputs": [],
   "source": [
    "def getOutput(inputList):\n",
    "    outputList = []\n",
    "    for i in range(len(inputList)):\n",
    "        G=np.zeros([2,300])\n",
    "        d=np.zeros([2,100])\n",
    "        \n",
    "        d[1,:] = np.array(inputList)[i,:]\n",
    "        \n",
    "        for j in range(100):\n",
    "            d[0,j] = j*3e-6\n",
    "        \n",
    "        for k in range(300):\n",
    "            f_thz=0.1e12+k*0.15e12\n",
    "            f_nir=3e8/800e-9\n",
    "            G[0,k]=-kk(2*np.pi*f_nir)+kk(2*np.pi*(f_nir-f_thz))+kk(2*np.pi*f_thz)\n",
    "        \n",
    "        for ii in range(300):\n",
    "            for jj in range(100):\n",
    "                if jj == 99:\n",
    "                    break\n",
    "                G[1,ii]=G[1,ii]+d[1,jj]*np.exp(1.0j*G[0,ii]*d[0,jj+1])-np.exp(1.0j*G[0,ii]*d[0,jj])/(1.0j*G[0,ii])\n",
    "        \n",
    "        peak = np.max(np.abs(G[1,:]))\n",
    "        G_au = np.abs(G[1,:])/peak\n",
    "        \n",
    "        max_index = G_au.tolist().index(1)\n",
    "        \n",
    "        lo = max_index \n",
    "        # 前向搜索\n",
    "        while G_au[lo] > 0.5 and lo > 0:\n",
    "            lo -= 1\n",
    "            if G_au[lo] <= 0.5:\n",
    "                break \n",
    "        \n",
    "        hi = max_index\n",
    "        # 后向搜索\n",
    "        while G_au[hi] > 0.5 and hi < 299:\n",
    "            hi += 1\n",
    "            if G_au[hi] <= 0.5:\n",
    "                break\n",
    "        \n",
    "        if(hi==299 and G_au[hi]>0.5)or(lo==0 and G_au[lo]>0.5):\n",
    "            bw=-1\n",
    "        else:\n",
    "            bw = hi - lo\n",
    "        outputList.append(bw)\n",
    "    \n",
    "    return outputList"
   ]
  },
  {
   "cell_type": "code",
   "execution_count": 6,
   "metadata": {},
   "outputs": [
    {
     "name": "stderr",
     "output_type": "stream",
     "text": [
      "C:\\Users\\20241\\Anaconda3\\envs\\pytorch\\lib\\site-packages\\ipykernel_launcher.py:21: ComplexWarning: Casting complex values to real discards the imaginary part\n"
     ]
    }
   ],
   "source": [
    "inputList = generateInput(50)\n",
    "outputList = getOutput(inputList)"
   ]
  },
  {
   "cell_type": "code",
   "execution_count": 7,
   "metadata": {
    "scrolled": true
   },
   "outputs": [],
   "source": [
    "inputList = torch.tensor(inputList)\n",
    "outputList = torch.tensor(outputList).unsqueeze(1)"
   ]
  },
  {
   "cell_type": "code",
   "execution_count": 8,
   "metadata": {},
   "outputs": [],
   "source": [
    "n_samples = inputList.shape[0]\n",
    "n_val = int(0.2 * n_samples)\n",
    "shuffled_indices = torch.randperm(n_samples)\n",
    "\n",
    "train_indices = shuffled_indices[:-n_val]\n",
    "val_indices = shuffled_indices[-n_val:]"
   ]
  },
  {
   "cell_type": "code",
   "execution_count": 9,
   "metadata": {},
   "outputs": [],
   "source": [
    "input_train = inputList[train_indices]\n",
    "output_train = outputList[train_indices]\n",
    "\n",
    "input_val = inputList[val_indices]\n",
    "output_val = outputList[val_indices]"
   ]
  },
  {
   "cell_type": "code",
   "execution_count": 10,
   "metadata": {},
   "outputs": [],
   "source": [
    "def training_loop(n_epochs, optimizer, model, loss_fn, t_u_train, t_u_val, t_c_train, t_c_val):\n",
    "    for epoch in range(1, n_epochs + 1):\n",
    "        t_p_train = model(t_u_train) # <1>\n",
    "        loss_train = loss_fn(t_p_train, t_c_train)\n",
    "\n",
    "        t_p_val = model(t_u_val) # <1>\n",
    "        loss_val = loss_fn(t_p_val, t_c_val)\n",
    "        \n",
    "        optimizer.zero_grad()\n",
    "        loss_train.backward() # <2>\n",
    "        optimizer.step()\n",
    "\n",
    "        if epoch == 1 or epoch % 10 == 0:\n",
    "            print('Epoch {}, Training loss {}, Validation loss {}'.format(\n",
    "                epoch, float(loss_train), float(loss_val)))"
   ]
  },
  {
   "cell_type": "code",
   "execution_count": 11,
   "metadata": {},
   "outputs": [
    {
     "ename": "NameError",
     "evalue": "name 'OrderedDict' is not defined",
     "output_type": "error",
     "traceback": [
      "\u001b[1;31m---------------------------------------------------------------------------\u001b[0m",
      "\u001b[1;31mNameError\u001b[0m                                 Traceback (most recent call last)",
      "\u001b[1;32m<ipython-input-11-65ec026d8c95>\u001b[0m in \u001b[0;36m<module>\u001b[1;34m\u001b[0m\n\u001b[0;32m      1\u001b[0m \u001b[0mneuron_count\u001b[0m \u001b[1;33m=\u001b[0m \u001b[1;36m300\u001b[0m\u001b[1;33m\u001b[0m\u001b[0m\n\u001b[0;32m      2\u001b[0m \u001b[1;33m\u001b[0m\u001b[0m\n\u001b[1;32m----> 3\u001b[1;33m seq_model = nn.Sequential(OrderedDict([\n\u001b[0m\u001b[0;32m      4\u001b[0m     \u001b[1;33m(\u001b[0m\u001b[1;34m'hidden_linear'\u001b[0m\u001b[1;33m,\u001b[0m \u001b[0mnn\u001b[0m\u001b[1;33m.\u001b[0m\u001b[0mLinear\u001b[0m\u001b[1;33m(\u001b[0m\u001b[1;36m100\u001b[0m\u001b[1;33m,\u001b[0m \u001b[0mneuron_count\u001b[0m\u001b[1;33m)\u001b[0m\u001b[1;33m)\u001b[0m\u001b[1;33m,\u001b[0m\u001b[1;33m\u001b[0m\u001b[0m\n\u001b[0;32m      5\u001b[0m     \u001b[1;33m(\u001b[0m\u001b[1;34m'hidden_activation'\u001b[0m\u001b[1;33m,\u001b[0m \u001b[0mnn\u001b[0m\u001b[1;33m.\u001b[0m\u001b[0mReLU\u001b[0m\u001b[1;33m(\u001b[0m\u001b[1;33m)\u001b[0m\u001b[1;33m)\u001b[0m\u001b[1;33m,\u001b[0m\u001b[1;33m\u001b[0m\u001b[0m\n",
      "\u001b[1;31mNameError\u001b[0m: name 'OrderedDict' is not defined"
     ]
    }
   ],
   "source": [
    "neuron_count = 300\n",
    "\n",
    "seq_model = nn.Sequential(OrderedDict([\n",
    "    ('hidden_linear', nn.Linear(100, neuron_count)),\n",
    "    ('hidden_activation', nn.ReLU()),\n",
    "    ('output_linear', nn.Linear(neuron_count, 1))\n",
    "]))\n",
    "\n",
    "optimizer = optim.SGD(seq_model.parameters(), lr=1e-4)\n",
    "\n",
    "training_loop(\n",
    "    n_epochs = 5000, \n",
    "    optimizer = optimizer,\n",
    "    model = seq_model,\n",
    "    loss_fn = nn.MSELoss(),\n",
    "    t_u_train = input_train.float(),\n",
    "    t_u_val = input_val.float(), \n",
    "    t_c_train = output_train.float(),\n",
    "    t_c_val = output_val.float())"
   ]
  }
 ],
 "metadata": {
  "kernelspec": {
   "display_name": "Python 3",
   "language": "python",
   "name": "python3"
  },
  "language_info": {
   "codemirror_mode": {
    "name": "ipython",
    "version": 3
   },
   "file_extension": ".py",
   "mimetype": "text/x-python",
   "name": "python",
   "nbconvert_exporter": "python",
   "pygments_lexer": "ipython3",
   "version": "3.6.4"
  }
 },
 "nbformat": 4,
 "nbformat_minor": 4
}
